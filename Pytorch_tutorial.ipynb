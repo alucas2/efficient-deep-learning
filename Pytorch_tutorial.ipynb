{
 "cells": [
  {
   "cell_type": "markdown",
   "metadata": {},
   "source": [
    "___________________________________________________________________________________________________________\n",
    "# Introduction to Pytorch \n",
    "### (based on the [60 min blitz Deep Learning with Pytorch] (https://pytorch.org/tutorials/beginner/deep_learning_60min_blitz.html) )\n",
    "\n",
    "## 1. Tensors\n",
    "## 2. A Gentle Introduction to ``torch.autograd``\n",
    "## 3. Neural Networks\n",
    "## 4. Train a Classifier\n",
    "\n",
    "_____________________________________________________________________________________________________\n",
    "\n",
    "PyTorch is a Python-based scientific computing package serving two broad purposes:\n",
    "\n",
    "- A replacement for NumPy to use the power of GPUs and other accelerators.\n",
    "- An automatic differentiation library that is useful to implement neural networks.\n",
    "\n",
    "Goal of this tutorial:\n",
    "\n",
    " - Understand PyTorch’s Tensor library and neural networks at a high level.\n",
    " - Train a small neural network to classify images\n",
    "\n",
    "### NOTE:\n",
    "The 4 sessions can be run independently, so if you feel confident with the first sessions you can quickly cover them. However, for the last session *4. Train a Classifier* you are expected to complete some empty cells to successfully train and test your `net`. \n",
    "_____________________________________________________________________________________________________"
   ]
  },
  {
   "cell_type": "markdown",
   "metadata": {},
   "source": [
    "# 1. Tensors\n",
    "--------------------------------------------\n",
    "\n",
    "Tensors are a specialized data structure that are very similar to arrays\n",
    "and matrices. In PyTorch, we use tensors to encode the inputs and\n",
    "outputs of a model, as well as the model’s parameters.\n",
    "\n",
    "Tensors are similar to NumPy’s ndarrays, except that tensors can run on\n",
    "GPUs or other specialized hardware to accelerate computing. If you’re familiar with ndarrays, you’ll\n",
    "be right at home with the Tensor API. If not, follow along in this quick\n",
    "API walkthrough.\n"
   ]
  },
  {
   "cell_type": "code",
   "execution_count": 1,
   "metadata": {},
   "outputs": [],
   "source": [
    "import torch\n",
    "import numpy as np"
   ]
  },
  {
   "cell_type": "markdown",
   "metadata": {},
   "source": [
    "### Tensor Initialization\n",
    "\n",
    "\n",
    "Tensors can be initialized in various ways. Take a look at the following examples:\n",
    "\n",
    "**Directly from data**\n",
    "\n",
    "Tensors can be created directly from data. The data type is automatically inferred.\n",
    "\n"
   ]
  },
  {
   "cell_type": "code",
   "execution_count": 3,
   "metadata": {},
   "outputs": [],
   "source": [
    "data = [[1, 2],[3, 4]]\n",
    "x_data = torch.tensor(data)"
   ]
  },
  {
   "cell_type": "markdown",
   "metadata": {},
   "source": [
    "**From a NumPy array**\n",
    "\n",
    "Tensors can be created from NumPy arrays (and vice versa - see *bridge-to-np-label*).\n",
    "\n"
   ]
  },
  {
   "cell_type": "code",
   "execution_count": 4,
   "metadata": {},
   "outputs": [],
   "source": [
    "np_array = np.array(data)\n",
    "x_np = torch.from_numpy(np_array)"
   ]
  },
  {
   "cell_type": "markdown",
   "metadata": {},
   "source": [
    "**From another tensor:**\n",
    "\n",
    "The new tensor retains the properties (shape, datatype) of the argument tensor, unless explicitly overridden.\n",
    "\n"
   ]
  },
  {
   "cell_type": "code",
   "execution_count": 5,
   "metadata": {},
   "outputs": [
    {
     "name": "stdout",
     "output_type": "stream",
     "text": [
      "Ones Tensor: \n",
      " tensor([[1, 1],\n",
      "        [1, 1]]) \n",
      "\n",
      "Random Tensor: \n",
      " tensor([[0.9434, 0.5897],\n",
      "        [0.6602, 0.8691]]) \n",
      "\n"
     ]
    }
   ],
   "source": [
    "x_ones = torch.ones_like(x_data) # retains the properties of x_data\n",
    "print(f\"Ones Tensor: \\n {x_ones} \\n\")\n",
    "\n",
    "x_rand = torch.rand_like(x_data, dtype=torch.float) # overrides the datatype of x_data\n",
    "print(f\"Random Tensor: \\n {x_rand} \\n\")"
   ]
  },
  {
   "cell_type": "markdown",
   "metadata": {},
   "source": [
    "**With random or constant values:**\n",
    "\n",
    "*shape* is a tuple of tensor dimensions. In the functions below, it determines the dimensionality of the output tensor.\n",
    "\n"
   ]
  },
  {
   "cell_type": "code",
   "execution_count": 6,
   "metadata": {},
   "outputs": [
    {
     "name": "stdout",
     "output_type": "stream",
     "text": [
      "Random Tensor: \n",
      " tensor([[0.0234, 0.5937, 0.6996],\n",
      "        [0.1297, 0.8961, 0.8593]]) \n",
      "\n",
      "Ones Tensor: \n",
      " tensor([[1., 1., 1.],\n",
      "        [1., 1., 1.]]) \n",
      "\n",
      "Zeros Tensor: \n",
      " tensor([[0., 0., 0.],\n",
      "        [0., 0., 0.]])\n"
     ]
    }
   ],
   "source": [
    "shape = (2,3,)\n",
    "rand_tensor = torch.rand(shape)\n",
    "ones_tensor = torch.ones(shape)\n",
    "zeros_tensor = torch.zeros(shape)\n",
    "\n",
    "print(f\"Random Tensor: \\n {rand_tensor} \\n\")\n",
    "print(f\"Ones Tensor: \\n {ones_tensor} \\n\")\n",
    "print(f\"Zeros Tensor: \\n {zeros_tensor}\")"
   ]
  },
  {
   "cell_type": "markdown",
   "metadata": {},
   "source": [
    "### Tensor Attributes\n",
    "\n",
    "\n",
    "Tensor attributes describe their shape, datatype, and the device on which they are stored.\n",
    "\n"
   ]
  },
  {
   "cell_type": "code",
   "execution_count": 7,
   "metadata": {},
   "outputs": [
    {
     "name": "stdout",
     "output_type": "stream",
     "text": [
      "Shape of tensor: torch.Size([3, 4])\n",
      "Datatype of tensor: torch.float32\n",
      "Device tensor is stored on: cpu\n"
     ]
    }
   ],
   "source": [
    "tensor = torch.rand(3,4)\n",
    "\n",
    "print(f\"Shape of tensor: {tensor.shape}\")\n",
    "print(f\"Datatype of tensor: {tensor.dtype}\")\n",
    "print(f\"Device tensor is stored on: {tensor.device}\")"
   ]
  },
  {
   "cell_type": "markdown",
   "metadata": {},
   "source": [
    "### Tensor Operations\n",
    "\n",
    "\n",
    "Over 100 tensor operations, including transposing, indexing, slicing,\n",
    "mathematical operations, linear algebra, random sampling, and more are\n",
    "comprehensively described [here](https://pytorch.org/docs/stable/torch.html).\n",
    "\n",
    "Try out some of the operations from the list.\n",
    "If you're familiar with the NumPy API, you'll find the Tensor API a breeze to use.\n",
    "\n"
   ]
  },
  {
   "cell_type": "markdown",
   "metadata": {},
   "source": [
    "**Standard numpy-like indexing and slicing:**\n",
    "\n"
   ]
  },
  {
   "cell_type": "code",
   "execution_count": 8,
   "metadata": {},
   "outputs": [
    {
     "name": "stdout",
     "output_type": "stream",
     "text": [
      "tensor([[1., 0., 1., 1.],\n",
      "        [1., 0., 1., 1.],\n",
      "        [1., 0., 1., 1.],\n",
      "        [1., 0., 1., 1.]])\n"
     ]
    }
   ],
   "source": [
    "tensor = torch.ones(4, 4)\n",
    "tensor[:,1] = 0\n",
    "print(tensor)"
   ]
  },
  {
   "cell_type": "markdown",
   "metadata": {},
   "source": [
    "**Joining tensors** You can use *torch.cat* to concatenate a sequence of tensors along a given dimension.\n",
    "See also [torch.stack] (https://pytorch.org/docs/stable/generated/torch.stack.html),\n",
    "another tensor joining operation that is subtly different from *torch.cat*.\n",
    "\n"
   ]
  },
  {
   "cell_type": "code",
   "execution_count": 9,
   "metadata": {},
   "outputs": [
    {
     "name": "stdout",
     "output_type": "stream",
     "text": [
      "tensor([[1., 0., 1., 1., 1., 0., 1., 1., 1., 0., 1., 1.],\n",
      "        [1., 0., 1., 1., 1., 0., 1., 1., 1., 0., 1., 1.],\n",
      "        [1., 0., 1., 1., 1., 0., 1., 1., 1., 0., 1., 1.],\n",
      "        [1., 0., 1., 1., 1., 0., 1., 1., 1., 0., 1., 1.]])\n"
     ]
    }
   ],
   "source": [
    "t1 = torch.cat([tensor, tensor, tensor], dim=1)\n",
    "print(t1)"
   ]
  },
  {
   "cell_type": "markdown",
   "metadata": {},
   "source": [
    "**Multiplying tensors**\n",
    "\n"
   ]
  },
  {
   "cell_type": "code",
   "execution_count": 10,
   "metadata": {},
   "outputs": [
    {
     "name": "stdout",
     "output_type": "stream",
     "text": [
      "tensor.mul(tensor) \n",
      " tensor([[1., 0., 1., 1.],\n",
      "        [1., 0., 1., 1.],\n",
      "        [1., 0., 1., 1.],\n",
      "        [1., 0., 1., 1.]]) \n",
      "\n",
      "tensor * tensor \n",
      " tensor([[1., 0., 1., 1.],\n",
      "        [1., 0., 1., 1.],\n",
      "        [1., 0., 1., 1.],\n",
      "        [1., 0., 1., 1.]])\n"
     ]
    }
   ],
   "source": [
    "# This computes the element-wise product\n",
    "print(f\"tensor.mul(tensor) \\n {tensor.mul(tensor)} \\n\")\n",
    "# Alternative syntax:\n",
    "print(f\"tensor * tensor \\n {tensor * tensor}\")"
   ]
  },
  {
   "cell_type": "markdown",
   "metadata": {},
   "source": [
    "This computes the matrix multiplication between two tensors\n",
    "\n"
   ]
  },
  {
   "cell_type": "code",
   "execution_count": 11,
   "metadata": {},
   "outputs": [
    {
     "name": "stdout",
     "output_type": "stream",
     "text": [
      "tensor.matmul(tensor.T) \n",
      " tensor([[3., 3., 3., 3.],\n",
      "        [3., 3., 3., 3.],\n",
      "        [3., 3., 3., 3.],\n",
      "        [3., 3., 3., 3.]]) \n",
      "\n",
      "tensor @ tensor.T \n",
      " tensor([[3., 3., 3., 3.],\n",
      "        [3., 3., 3., 3.],\n",
      "        [3., 3., 3., 3.],\n",
      "        [3., 3., 3., 3.]])\n"
     ]
    }
   ],
   "source": [
    "print(f\"tensor.matmul(tensor.T) \\n {tensor.matmul(tensor.T)} \\n\")\n",
    "# Alternative syntax:\n",
    "print(f\"tensor @ tensor.T \\n {tensor @ tensor.T}\")"
   ]
  },
  {
   "cell_type": "markdown",
   "metadata": {},
   "source": [
    "**In-place operations**\n",
    "Operations that have a `_` suffix are in-place. For example: `x.copy_(y)`, ``x.t_()``, will change ``x``.\n",
    "\n"
   ]
  },
  {
   "cell_type": "code",
   "execution_count": 12,
   "metadata": {},
   "outputs": [
    {
     "name": "stdout",
     "output_type": "stream",
     "text": [
      "tensor([[1., 0., 1., 1.],\n",
      "        [1., 0., 1., 1.],\n",
      "        [1., 0., 1., 1.],\n",
      "        [1., 0., 1., 1.]]) \n",
      "\n",
      "tensor([[6., 5., 6., 6.],\n",
      "        [6., 5., 6., 6.],\n",
      "        [6., 5., 6., 6.],\n",
      "        [6., 5., 6., 6.]])\n"
     ]
    }
   ],
   "source": [
    "print(tensor, \"\\n\")\n",
    "tensor.add_(5)\n",
    "print(tensor)"
   ]
  },
  {
   "cell_type": "markdown",
   "metadata": {},
   "source": [
    "### NOTE\n",
    "\n",
    "n-place operations save some memory, but can be problematic when computing derivatives because of an immediate loss\n",
    "     of history. Hence, their use is discouraged.</p></div>\n",
    "\n"
   ]
  },
  {
   "cell_type": "markdown",
   "metadata": {},
   "source": [
    "**Bridge to NumPy**\n",
    "\n",
    "Tensor to NumPy array\n",
    "\n",
    "\n"
   ]
  },
  {
   "cell_type": "code",
   "execution_count": 13,
   "metadata": {},
   "outputs": [
    {
     "name": "stdout",
     "output_type": "stream",
     "text": [
      "t: tensor([1., 1., 1., 1., 1.])\n",
      "n: [1. 1. 1. 1. 1.]\n"
     ]
    }
   ],
   "source": [
    "t = torch.ones(5)\n",
    "print(f\"t: {t}\")\n",
    "n = t.numpy()\n",
    "print(f\"n: {n}\")"
   ]
  },
  {
   "cell_type": "markdown",
   "metadata": {},
   "source": [
    "A change in the tensor reflects in the NumPy array.\n",
    "\n"
   ]
  },
  {
   "cell_type": "code",
   "execution_count": 14,
   "metadata": {},
   "outputs": [
    {
     "name": "stdout",
     "output_type": "stream",
     "text": [
      "t: tensor([2., 2., 2., 2., 2.])\n",
      "n: [2. 2. 2. 2. 2.]\n"
     ]
    }
   ],
   "source": [
    "t.add_(1)\n",
    "print(f\"t: {t}\")\n",
    "print(f\"n: {n}\")"
   ]
  },
  {
   "cell_type": "markdown",
   "metadata": {},
   "source": [
    "NumPy array to Tensor\n",
    "\n"
   ]
  },
  {
   "cell_type": "code",
   "execution_count": 15,
   "metadata": {},
   "outputs": [],
   "source": [
    "n = np.ones(5)\n",
    "t = torch.from_numpy(n)"
   ]
  },
  {
   "cell_type": "markdown",
   "metadata": {},
   "source": [
    "Changes in the NumPy array reflects in the tensor.\n",
    "\n"
   ]
  },
  {
   "cell_type": "code",
   "execution_count": 16,
   "metadata": {},
   "outputs": [
    {
     "name": "stdout",
     "output_type": "stream",
     "text": [
      "t: tensor([2., 2., 2., 2., 2.], dtype=torch.float64)\n",
      "n: [2. 2. 2. 2. 2.]\n"
     ]
    }
   ],
   "source": [
    "np.add(n, 1, out=n)\n",
    "print(f\"t: {t}\")\n",
    "print(f\"n: {n}\")"
   ]
  },
  {
   "cell_type": "code",
   "execution_count": null,
   "metadata": {},
   "outputs": [],
   "source": []
  },
  {
   "cell_type": "markdown",
   "metadata": {},
   "source": [
    "\n",
    "# 2. A Gentle Introduction to ``torch.autograd``\n",
    "---------------------------------\n",
    "\n",
    "``torch.autograd`` is PyTorch’s automatic differentiation engine that powers\n",
    "neural network training. In this section, you will get a conceptual\n",
    "understanding of how autograd helps a neural network train.\n",
    "\n",
    "### Background\n",
    "\n",
    "Neural networks (NNs) are a collection of nested functions that are\n",
    "executed on some input data. These functions are defined by *parameters*\n",
    "(consisting of weights and biases), which in PyTorch are stored in\n",
    "tensors.\n",
    "\n",
    "Training a NN happens in two steps:\n",
    "\n",
    "**Forward Propagation**: In forward prop, the NN makes its best guess\n",
    "about the correct output. It runs the input data through each of its\n",
    "functions to make this guess.\n",
    "\n",
    "**Backward Propagation**: In backprop, the NN adjusts its parameters\n",
    "proportionate to the error in its guess. It does this by traversing\n",
    "backwards from the output, collecting the derivatives of the error with\n",
    "respect to the parameters of the functions (*gradients*), and optimizing\n",
    "the parameters using gradient descent. For a more detailed walkthrough\n",
    "of backprop, check out this [video from\n",
    "3Blue1Brown] (https://www.youtube.com/watch?v=tIeHLnjs5U8).\n",
    "\n",
    "\n",
    "\n",
    "\n",
    "### Usage in PyTorch\n",
    "\n",
    "Let's take a look at a single training step.\n",
    "For this example, we load a pretrained resnet18 model from ``torchvision``.\n",
    "We create a random data tensor to represent a single image with 3 channels, and height & width of 64,\n",
    "and its corresponding ``label`` initialized to some random values.\n",
    "\n"
   ]
  },
  {
   "cell_type": "code",
   "execution_count": 17,
   "metadata": {},
   "outputs": [
    {
     "name": "stderr",
     "output_type": "stream",
     "text": [
      "Downloading: \"https://download.pytorch.org/models/resnet18-5c106cde.pth\" to /homes/a19lucas/.cache/torch/hub/checkpoints/resnet18-5c106cde.pth\n"
     ]
    },
    {
     "data": {
      "application/vnd.jupyter.widget-view+json": {
       "model_id": "e283954836144c7a9e10ecb9f20398e7",
       "version_major": 2,
       "version_minor": 0
      },
      "text/plain": [
       "  0%|          | 0.00/44.7M [00:00<?, ?B/s]"
      ]
     },
     "metadata": {},
     "output_type": "display_data"
    }
   ],
   "source": [
    "import torch, torchvision\n",
    "model = torchvision.models.resnet18(pretrained=True)\n",
    "data = torch.rand(1, 3, 64, 64)\n",
    "labels = torch.rand(1, 1000)"
   ]
  },
  {
   "cell_type": "markdown",
   "metadata": {},
   "source": [
    "Next, we run the input data through the model through each of its layers to make a prediction.\n",
    "This is the **forward pass**.\n"
   ]
  },
  {
   "cell_type": "code",
   "execution_count": 18,
   "metadata": {},
   "outputs": [],
   "source": [
    "prediction = model(data) # forward pass"
   ]
  },
  {
   "cell_type": "markdown",
   "metadata": {},
   "source": [
    "We use the model's prediction and the corresponding label to calculate the error (*loss*).\n",
    "The next step is to backpropagate this error through the network.\n",
    "Backward propagation is kicked off when we call ``.backward()`` on the error tensor.\n",
    "Autograd then calculates and stores the gradients for each model parameter in the parameter's ``.grad`` attribute.\n"
   ]
  },
  {
   "cell_type": "code",
   "execution_count": 19,
   "metadata": {},
   "outputs": [],
   "source": [
    "loss = (prediction - labels).sum()\n",
    "loss.backward() # backward pass"
   ]
  },
  {
   "cell_type": "markdown",
   "metadata": {},
   "source": [
    "Next, we load an optimizer, in this case stochastic gradient descent **SGD** with a learning rate of 0.01 and momentum of 0.9.\n",
    "We register all the parameters of the model in the optimizer.\n",
    "\n",
    "Finally, we call ``.step()`` to initiate gradient descent. The optimizer adjusts each parameter by its gradient stored in ``.grad``.\n",
    "\n"
   ]
  },
  {
   "cell_type": "code",
   "execution_count": 20,
   "metadata": {},
   "outputs": [],
   "source": [
    "optim = torch.optim.SGD(model.parameters(), lr=1e-2, momentum=0.9)\n",
    "optim.step() #gradient descent"
   ]
  },
  {
   "cell_type": "markdown",
   "metadata": {},
   "source": [
    "## Differentiation in Autograd\n",
    "\n",
    "Let's take a look at how ``autograd`` collects gradients. We create two tensors ``a`` and ``b`` with\n",
    "``requires_grad=True``. This signals to ``autograd`` that every operation on them should be tracked.\n",
    "\n",
    "\n"
   ]
  },
  {
   "cell_type": "code",
   "execution_count": 21,
   "metadata": {},
   "outputs": [],
   "source": [
    "import torch\n",
    "\n",
    "a = torch.tensor([2., 3.], requires_grad=True)\n",
    "b = torch.tensor([6., 4.], requires_grad=True)"
   ]
  },
  {
   "cell_type": "markdown",
   "metadata": {},
   "source": [
    "We create another tensor ``Q`` from ``a`` and ``b``.\n",
    "\n",
    "\\begin{align}Q = 3a^3 - b^2\\end{align}\n"
   ]
  },
  {
   "cell_type": "code",
   "execution_count": 22,
   "metadata": {},
   "outputs": [],
   "source": [
    "Q = 3*a**3 - b**2"
   ]
  },
  {
   "cell_type": "markdown",
   "metadata": {},
   "source": [
    "Let's assume ``a`` and ``b`` to be parameters of an NN, and ``Q``\n",
    "to be the error. In NN training, we want gradients of the error\n",
    "w.r.t. parameters, i.e.\n",
    "\n",
    "\\begin{align}\\frac{\\partial Q}{\\partial a} = 9a^2\\end{align}\n",
    "\n",
    "\\begin{align}\\frac{\\partial Q}{\\partial b} = -2b\\end{align}\n",
    "\n",
    "\n",
    "When we call ``.backward()`` on ``Q``, autograd calculates these gradients\n",
    "and stores them in the respective tensors' ``.grad`` attribute.\n",
    "\n",
    "We need to explicitly pass a ``gradient`` argument in ``Q.backward()`` because it is a vector.\n",
    "``gradient`` is a tensor of the same shape as ``Q``, and it represents the\n",
    "gradient of Q w.r.t. itself, i.e.\n",
    "\n",
    "\\begin{align}\\frac{dQ}{dQ} = 1\\end{align}\n",
    "\n"
   ]
  },
  {
   "cell_type": "code",
   "execution_count": 23,
   "metadata": {},
   "outputs": [
    {
     "name": "stdout",
     "output_type": "stream",
     "text": [
      "tensor([True, True])\n",
      "tensor([True, True])\n"
     ]
    }
   ],
   "source": [
    "external_grad = torch.tensor([1., 1.])\n",
    "\n",
    "Q.backward(gradient=external_grad)\n",
    "# Gradients are now deposited in ``a.grad`` and ``b.grad``\n",
    "\n",
    "# check if collected gradients are correct\n",
    "print(9*a**2 == a.grad)\n",
    "print(-2*b == b.grad)"
   ]
  },
  {
   "cell_type": "markdown",
   "metadata": {},
   "source": [
    "## Computational Graph\n",
    "\n",
    "\n",
    "Conceptually, autograd keeps a record of data (tensors) & all executed\n",
    "operations (along with the resulting new tensors) in a directed acyclic\n",
    "graph (DAG) consisting of [Function] (https://pytorch.org/docs/stable/autograd.html#torch.autograd.Function)\n",
    "objects. In this DAG, leaves are the input tensors, roots are the output\n",
    "tensors. By tracing this graph from roots to leaves, you can\n",
    "automatically compute the gradients using the chain rule.\n",
    "\n",
    "In a forward pass, autograd does two things simultaneously:\n",
    "\n",
    "- run the requested operation to compute a resulting tensor, and\n",
    "- maintain the operation’s *gradient function* in the DAG.\n",
    "\n",
    "The backward pass kicks off when ``.backward()`` is called on the DAG\n",
    "root. ``autograd`` then:\n",
    "\n",
    "- computes the gradients from each ``.grad_fn``,\n",
    "- accumulates them in the respective tensor’s ``.grad`` attribute, and\n",
    "- using the chain rule, propagates all the way to the leaf tensors.\n",
    "\n",
    "\n",
    "** NOTE: DAGs are dynamic in PyTorch**\n",
    "  An important thing to note is that the graph is recreated from scratch; after each\n",
    "  ``.backward()`` call, autograd starts populating a new graph. This is\n",
    "  exactly what allows you to use control flow statements in your model;\n",
    "  you can change the shape, size and operations at every iteration if\n",
    "  needed.</p></div>\n",
    "\n",
    "\n",
    "### Exclusion from the DAG\n",
    "\n",
    "\n",
    "``torch.autograd`` tracks operations on all tensors which have their\n",
    "``requires_grad`` flag set to ``True``. For tensors that don’t require\n",
    "gradients, setting this attribute to ``False`` excludes it from the\n",
    "gradient computation DAG.\n",
    "\n",
    "The output tensor of an operation will require gradients even if only a\n",
    "single input tensor has ``requires_grad=True``."
   ]
  },
  {
   "cell_type": "code",
   "execution_count": 24,
   "metadata": {},
   "outputs": [
    {
     "name": "stdout",
     "output_type": "stream",
     "text": [
      "Does `a` require gradients? : False\n",
      "Does `b` require gradients?: True\n"
     ]
    }
   ],
   "source": [
    "x = torch.rand(5, 5)\n",
    "y = torch.rand(5, 5)\n",
    "z = torch.rand((5, 5), requires_grad=True)\n",
    "\n",
    "a = x + y\n",
    "print(f\"Does `a` require gradients? : {a.requires_grad}\")\n",
    "b = x + z\n",
    "print(f\"Does `b` require gradients?: {b.requires_grad}\")"
   ]
  },
  {
   "cell_type": "markdown",
   "metadata": {},
   "source": [
    "In a NN, parameters that don't compute gradients are usually called **frozen parameters**.\n",
    "It is useful to \"freeze\" part of your model if you know in advance that you won't need the gradients of those parameters\n",
    "(this offers some performance benefits by reducing autograd computations).\n",
    "\n",
    "Another common usecase where exclusion from the DAG is important is for transfer learning (see\n",
    "[finetuning a pretrained network](https://pytorch.org/tutorials/beginner/finetuning_torchvision_models_tutorial.html))\n",
    "\n",
    "In transfer learning, we freeze most of the model and typically only modify the classifier layers (last fully connected layers) to make predictions on new labels.\n",
    "Let's walk through a small example to demonstrate this. As before, we load a pretrained resnet18 model, and freeze all the parameters."
   ]
  },
  {
   "cell_type": "code",
   "execution_count": 25,
   "metadata": {},
   "outputs": [],
   "source": [
    "from torch import nn, optim\n",
    "\n",
    "model = torchvision.models.resnet18(pretrained=True)\n",
    "\n",
    "# Freeze all the parameters in the network\n",
    "for param in model.parameters():\n",
    "    param.requires_grad = False"
   ]
  },
  {
   "cell_type": "markdown",
   "metadata": {},
   "source": [
    "Let's say we want to finetune the model on a new dataset with 10 labels.\n",
    "In resnet, the classifier is the last linear layer ``model.fc``.\n",
    "We can simply replace it with a new linear layer (unfrozen by default)\n",
    "that acts as our classifier.\n",
    "\n"
   ]
  },
  {
   "cell_type": "code",
   "execution_count": 27,
   "metadata": {},
   "outputs": [],
   "source": [
    "model.fc = nn.Linear(512, 10)"
   ]
  },
  {
   "cell_type": "markdown",
   "metadata": {},
   "source": [
    "Now all parameters in the model, except the parameters of ``model.fc``, are frozen.\n",
    "The only parameters that compute gradients are the weights and bias of ``model.fc``.\n",
    "This means also that during traininig, the only parameters that are computing gradients (and hence updated in gradient descent)\n",
    "are the weights and bias of the classifier (`model.fc`).\n",
    "\n",
    "### NOTE:\n",
    " The same exclusionary functionality is available as a context manager in\n",
    "[`torch.no_grad()`] (https://pytorch.org/docs/stable/generated/torch.no_grad.html), that we will be using for *Transfer Learning*\n",
    "\n"
   ]
  },
  {
   "cell_type": "markdown",
   "metadata": {},
   "source": [
    "# 3. Neural Networks\n",
    "_________________________________________________________________________________\n",
    "\n",
    "Neural networks can be constructed using the ``torch.nn`` package.\n",
    "\n",
    "Now that you had a glimpse of ``autograd``, ``nn`` depends on\n",
    "``autograd`` to define models and differentiate them.\n",
    "An ``nn.Module`` contains layers, and a method ``forward(input)`` that\n",
    "returns the ``output``.\n",
    "\n",
    "A neural network takes the input, feeds it through several layers one after the other, and then finally gives the\n",
    "output.\n",
    "\n",
    "A typical training procedure for a neural network is as follows:\n",
    "\n",
    "- Define the neural network that has some learnable parameters (or\n",
    "  weights)\n",
    "- Iterate over a dataset of inputs\n",
    "- Process input through the network\n",
    "- Compute the loss (how far is the output from being correct)\n",
    "- Propagate gradients back into the network’s parameters\n",
    "- Update the weights of the network, typically using a simple update rule:\n",
    "\n",
    "\\begin{align}weight = weight - learningRate * gradient\\end{align}\n",
    "\n",
    "Define the network\n",
    "------------------\n",
    "\n",
    "Let’s define this network:\n"
   ]
  },
  {
   "cell_type": "code",
   "execution_count": 28,
   "metadata": {},
   "outputs": [
    {
     "name": "stdout",
     "output_type": "stream",
     "text": [
      "Net(\n",
      "  (conv1): Conv2d(1, 6, kernel_size=(3, 3), stride=(1, 1))\n",
      "  (conv2): Conv2d(6, 16, kernel_size=(3, 3), stride=(1, 1))\n",
      "  (fc1): Linear(in_features=576, out_features=120, bias=True)\n",
      "  (fc2): Linear(in_features=120, out_features=84, bias=True)\n",
      "  (fc3): Linear(in_features=84, out_features=10, bias=True)\n",
      ")\n"
     ]
    }
   ],
   "source": [
    "import torch\n",
    "import torch.nn as nn\n",
    "import torch.nn.functional as F\n",
    "\n",
    "\n",
    "class Net(nn.Module):\n",
    "\n",
    "    def __init__(self):\n",
    "        super(Net, self).__init__()\n",
    "        # 1 input image channel, 6 output channels, 3x3 square convolution\n",
    "        # kernel\n",
    "        self.conv1 = nn.Conv2d(1, 6, 3)\n",
    "        self.conv2 = nn.Conv2d(6, 16, 3)\n",
    "        # an affine operation: y = Wx + b\n",
    "        self.fc1 = nn.Linear(16 * 6 * 6, 120)  # 6*6 from image dimension, 16 for channels\n",
    "        self.fc2 = nn.Linear(120, 84)\n",
    "        self.fc3 = nn.Linear(84, 10)\n",
    "\n",
    "    def forward(self, x):\n",
    "        # Max pooling over a (2, 2) window\n",
    "        x = F.max_pool2d(F.relu(self.conv1(x)), (2, 2))\n",
    "        # If the size is a square you can only specify a single number\n",
    "        x = F.max_pool2d(F.relu(self.conv2(x)), 2)\n",
    "        x = x.view(-1, self.num_flat_features(x))\n",
    "        x = F.relu(self.fc1(x))\n",
    "        x = F.relu(self.fc2(x))\n",
    "        x = self.fc3(x)\n",
    "        return x\n",
    "\n",
    "    def num_flat_features(self, x):\n",
    "        size = x.size()[1:]  # all dimensions except the batch dimension\n",
    "        num_features = 1\n",
    "        for s in size:\n",
    "            num_features *= s\n",
    "        return num_features\n",
    "\n",
    "\n",
    "net = Net()\n",
    "print(net)"
   ]
  },
  {
   "cell_type": "markdown",
   "metadata": {},
   "source": [
    "You just have to define the ``forward`` function, and the ``backward``\n",
    "function (where gradients are computed) is automatically defined for you\n",
    "using ``autograd``.\n",
    "You can use any of the Tensor operations in the ``forward`` function.\n",
    "\n",
    "The learnable parameters of a model are returned by ``net.parameters()``"
   ]
  },
  {
   "cell_type": "code",
   "execution_count": 29,
   "metadata": {},
   "outputs": [
    {
     "name": "stdout",
     "output_type": "stream",
     "text": [
      "10\n",
      "torch.Size([6, 1, 3, 3])\n"
     ]
    }
   ],
   "source": [
    "params = list(net.parameters())\n",
    "print(len(params))\n",
    "print(params[0].size())  # conv1's .weight"
   ]
  },
  {
   "cell_type": "markdown",
   "metadata": {},
   "source": [
    "Let's try a random 32x32 input.\n",
    "Note: expected input size of this net (LeNet) is 32x32. To use this net on\n",
    "the MNIST dataset, please resize the images from the dataset to 32x32."
   ]
  },
  {
   "cell_type": "code",
   "execution_count": 30,
   "metadata": {},
   "outputs": [
    {
     "name": "stdout",
     "output_type": "stream",
     "text": [
      "tensor([[-0.0504, -0.0600,  0.0464,  0.0269,  0.0197, -0.0338, -0.0317, -0.0644,\n",
      "         -0.0098, -0.0497]], grad_fn=<AddmmBackward>)\n"
     ]
    }
   ],
   "source": [
    "input = torch.randn(1, 1, 32, 32)\n",
    "out = net(input)\n",
    "print(out)"
   ]
  },
  {
   "cell_type": "markdown",
   "metadata": {},
   "source": [
    "Zero the gradient buffers of all parameters and backprops with random\n",
    "gradients:"
   ]
  },
  {
   "cell_type": "code",
   "execution_count": 31,
   "metadata": {},
   "outputs": [],
   "source": [
    "net.zero_grad()\n",
    "out.backward(torch.randn(1, 10))"
   ]
  },
  {
   "cell_type": "markdown",
   "metadata": {},
   "source": [
    "### NOTE: \n",
    "`torch.nn` only supports mini-batches. The entire `torch.nn`\n",
    "    package only supports inputs that are a mini-batch of samples, and not\n",
    "    a single sample. \n",
    "    \n",
    "For example, `nn.Conv2d` will take in a 4D Tensor of `nSamples x nChannels x Height x Width`.\n",
    "\n",
    "If you have a single sample, just use `input.unsqueeze(0)` to add a fake batch dimension.\n",
    "    __________________________________________________________________________________________________\n",
    "\n",
    "Before proceeding further, let's recap all the classes you’ve seen so far.\n",
    "\n",
    "**Recap:**\n",
    "  -  ``torch.Tensor`` - A *multi-dimensional array* with support for autograd\n",
    "     operations like ``backward()``. Also *holds the gradient* w.r.t. the\n",
    "     tensor.\n",
    "  -  ``nn.Module`` - Neural network module. *Convenient way of\n",
    "     encapsulating parameters*, with helpers for moving them to GPU,\n",
    "     exporting, loading, etc.\n",
    "  -  ``nn.Parameter`` - A kind of Tensor, that is *automatically\n",
    "     registered as a parameter when assigned as an attribute to a*\n",
    "     ``Module``.\n",
    "  -  ``autograd.Function`` - Implements *forward and backward definitions\n",
    "     of an autograd operation*. Every ``Tensor`` operation creates at\n",
    "     least a single ``Function`` node that connects to functions that\n",
    "     created a ``Tensor`` and *encodes its history*.\n",
    "\n",
    "**At this point, we covered:**\n",
    "  -  Defining a neural network\n",
    "  -  Processing inputs and calling backward\n",
    "\n",
    "**Still Left:**\n",
    "  -  Computing the loss\n",
    "  -  Updating the weights of the network\n",
    "\n",
    "## Loss Function\n",
    "\n",
    "A loss function takes the (output, target) pair of inputs, and computes a\n",
    "value that estimates how far away the output is from the target.\n",
    "\n",
    "There are several different\n",
    "[loss functions] (https://pytorch.org/docs/nn.html#loss-functions)  under the\n",
    "nn package.\n",
    "A simple loss is: ``nn.MSELoss`` which computes the mean-squared error\n",
    "between the input and the target.\n",
    "\n",
    "For example:\n",
    "\n"
   ]
  },
  {
   "cell_type": "code",
   "execution_count": 33,
   "metadata": {},
   "outputs": [
    {
     "name": "stdout",
     "output_type": "stream",
     "text": [
      "tensor(1.4897, grad_fn=<MseLossBackward>)\n"
     ]
    }
   ],
   "source": [
    "output = net(input)\n",
    "target = torch.randn(10)  # a dummy target, for example\n",
    "target = target.view(1, -1)  # make it the same shape as output\n",
    "criterion = nn.MSELoss()\n",
    "\n",
    "loss = criterion(output, target)\n",
    "print(loss)"
   ]
  },
  {
   "cell_type": "markdown",
   "metadata": {},
   "source": [
    "Now, if you follow ``loss`` in the backward direction, using its\n",
    "``.grad_fn`` attribute, you will see a graph of computations that looks\n",
    "like this:\n",
    "\n",
    "::\n",
    "\n",
    "    input -> conv2d -> relu -> maxpool2d -> conv2d -> relu -> maxpool2d\n",
    "          -> view -> linear -> relu -> linear -> relu -> linear\n",
    "          -> MSELoss\n",
    "          -> loss\n",
    "\n",
    "So, when we call ``loss.backward()``, the whole graph is differentiated\n",
    "w.r.t. the loss, and all Tensors in the graph that has ``requires_grad=True``\n",
    "will have their ``.grad`` Tensor accumulated with the gradient.\n",
    "\n",
    "For illustration, let us follow a few steps backward:"
   ]
  },
  {
   "cell_type": "code",
   "execution_count": 34,
   "metadata": {},
   "outputs": [
    {
     "name": "stdout",
     "output_type": "stream",
     "text": [
      "<MseLossBackward object at 0x7fba3d81ab80>\n",
      "<AddmmBackward object at 0x7fba3d81ab50>\n",
      "<AccumulateGrad object at 0x7fba3d81ab80>\n"
     ]
    }
   ],
   "source": [
    "print(loss.grad_fn)  # MSELoss\n",
    "print(loss.grad_fn.next_functions[0][0])  # Linear\n",
    "print(loss.grad_fn.next_functions[0][0].next_functions[0][0])  # ReLU"
   ]
  },
  {
   "cell_type": "markdown",
   "metadata": {},
   "source": [
    "Backprop\n",
    "--------\n",
    "To backpropagate the error all we have to do is to ``loss.backward()``.\n",
    "You need to clear the existing gradients though, else gradients will be\n",
    "accumulated to existing gradients.\n",
    "\n",
    "\n",
    "Now we shall call ``loss.backward()``, and have a look at conv1's bias\n",
    "gradients before and after the backward.\n"
   ]
  },
  {
   "cell_type": "code",
   "execution_count": 35,
   "metadata": {},
   "outputs": [
    {
     "name": "stdout",
     "output_type": "stream",
     "text": [
      "conv1.bias.grad before backward\n",
      "tensor([0., 0., 0., 0., 0., 0.])\n",
      "conv1.bias.grad after backward\n",
      "tensor([ 0.0291, -0.0146,  0.0149, -0.0293, -0.0030, -0.0103])\n"
     ]
    }
   ],
   "source": [
    "net.zero_grad()     # zeroes the gradient buffers of all parameters\n",
    "\n",
    "print('conv1.bias.grad before backward')\n",
    "print(net.conv1.bias.grad)\n",
    "\n",
    "loss.backward()\n",
    "\n",
    "print('conv1.bias.grad after backward')\n",
    "print(net.conv1.bias.grad)"
   ]
  },
  {
   "cell_type": "markdown",
   "metadata": {},
   "source": [
    "Now, we have seen how to use loss functions.\n",
    "\n",
    "**Read Later:**\n",
    "\n",
    "  The neural network package contains various modules and loss functions\n",
    "  that form the building blocks of deep neural networks. A full list with\n",
    "  documentation is [here] (https://pytorch.org/docs/nn).\n",
    "\n",
    "**The only thing left to learn is:**\n",
    "\n",
    "  - Updating the weights of the network\n",
    "\n",
    "Update the weights\n",
    "------------------\n",
    "The simplest update rule used in practice is the Stochastic Gradient\n",
    "Descent (SGD):\n",
    "\n",
    "\\begin{align}weight = weight - learningRate * gradient\\end{align}\n",
    "\n",
    "We can implement this using simple Python code:\n",
    "\n",
    "\n",
    "    learning_rate = 0.01\n",
    "    for f in net.parameters():\n",
    "        f.data.sub_(f.grad.data * learning_rate)\n",
    "\n",
    "However, as you use neural networks, you want to use various different\n",
    "update rules such as SGD, Nesterov-SGD, Adam, RMSProp, etc.\n",
    "To enable this, we built a small package: ``torch.optim`` that\n",
    "implements all these methods. Using it is very simple:"
   ]
  },
  {
   "cell_type": "code",
   "execution_count": 36,
   "metadata": {},
   "outputs": [],
   "source": [
    "import torch.optim as optim\n",
    "\n",
    "# create your optimizer\n",
    "optimizer = optim.SGD(net.parameters(), lr=0.01) \n",
    "\n",
    "# in your training loop:\n",
    "optimizer.zero_grad()   # zero the gradient buffers\n",
    "output = net(input)\n",
    "loss = criterion(output, target)\n",
    "loss.backward()\n",
    "optimizer.step()    # Does the update"
   ]
  },
  {
   "cell_type": "markdown",
   "metadata": {},
   "source": [
    "You have seen how to define neural networks, compute loss and make updates to the weights of the network.\n",
    "One thing is still missing:\n",
    "\n",
    "## Input Data\n",
    "\n",
    "\n",
    "Generally, when you have to deal with image, text, audio or video data,\n",
    "you can use standard python packages that load data into a numpy array.\n",
    "Then you can convert this array into a ``torch.*Tensor``.\n",
    "\n",
    "-  For images, packages such as Pillow, OpenCV are useful\n",
    "-  For audio, packages such as scipy and librosa\n",
    "-  For text, either raw Python or Cython based loading, or NLTK and\n",
    "   SpaCy are useful\n",
    "\n",
    "Specifically for vision, we have created a package called\n",
    "``torchvision``, that has data loaders for common datasets such as\n",
    "Imagenet, CIFAR10, MNIST, etc. and data transformers for images, viz.,\n",
    "``torchvision.datasets`` and ``torch.utils.data.DataLoader``.\n",
    "\n",
    "This provides a huge convenience and avoids writing boilerplate code.\n",
    "\n",
    "For this tutorial, we will use the CIFAR10 dataset.\n",
    "It has the classes: ‘airplane’, ‘automobile’, ‘bird’, ‘cat’, ‘deer’,\n",
    "‘dog’, ‘frog’, ‘horse’, ‘ship’, ‘truck’. The images in CIFAR-10 are of\n",
    "size 3x32x32, i.e. 3-channel color images of 32x32 pixels in size.\n",
    "\n",
    "This is it. You are finally ready to:"
   ]
  },
  {
   "cell_type": "markdown",
   "metadata": {},
   "source": [
    "# 4. Train a Classifier!\n",
    "____________________________________________________________________________________________________\n",
    "We will do the following steps in order:\n",
    "\n",
    "a. Load and normalizing the CIFAR10 training and test datasets using\n",
    "   ``torchvision``\n",
    "\n",
    "b. Define a Convolutional Neural Network\n",
    "\n",
    "c. Define a loss function\n",
    "\n",
    "d. Train the network on the training data\n",
    "\n",
    "e. Test the network on the test data\n",
    "\n",
    "\n",
    "## a. Loading and normalizing CIFAR10\n",
    "\n",
    "\n",
    "Using ``torchvision``, it’s extremely easy to load CIFAR10.\n",
    "\n"
   ]
  },
  {
   "cell_type": "code",
   "execution_count": 37,
   "metadata": {},
   "outputs": [],
   "source": [
    "import torch\n",
    "import torchvision\n",
    "import torchvision.transforms as transforms"
   ]
  },
  {
   "cell_type": "markdown",
   "metadata": {},
   "source": [
    "The output of torchvision datasets are PILImage images of range `[0, 1]`.\n",
    "We transform them to Tensors of normalized range `[-1, 1]`.\n"
   ]
  },
  {
   "cell_type": "code",
   "execution_count": 38,
   "metadata": {},
   "outputs": [
    {
     "name": "stdout",
     "output_type": "stream",
     "text": [
      "Downloading https://www.cs.toronto.edu/~kriz/cifar-10-python.tar.gz to ./data/cifar-10-python.tar.gz\n"
     ]
    },
    {
     "data": {
      "application/vnd.jupyter.widget-view+json": {
       "model_id": "306fd3f831324e24b3e92b0f60fcae67",
       "version_major": 2,
       "version_minor": 0
      },
      "text/plain": [
       "0it [00:00, ?it/s]"
      ]
     },
     "metadata": {},
     "output_type": "display_data"
    },
    {
     "name": "stdout",
     "output_type": "stream",
     "text": [
      "Extracting ./data/cifar-10-python.tar.gz to ./data\n",
      "Files already downloaded and verified\n"
     ]
    }
   ],
   "source": [
    "transform = transforms.Compose(\n",
    "    [transforms.ToTensor(),\n",
    "     transforms.Normalize((0.5, 0.5, 0.5), (0.5, 0.5, 0.5))])\n",
    "\n",
    "trainset = torchvision.datasets.CIFAR10(root='./data', train=True,\n",
    "                                        download=True, transform=transform)\n",
    "trainloader = torch.utils.data.DataLoader(trainset, batch_size=4,\n",
    "                                          shuffle=True, num_workers=2)\n",
    "\n",
    "testset = torchvision.datasets.CIFAR10(root='./data', train=False,\n",
    "                                       download=True, transform=transform)\n",
    "testloader = torch.utils.data.DataLoader(testset, batch_size=4,\n",
    "                                         shuffle=False, num_workers=2)\n",
    "\n",
    "classes = ('plane', 'car', 'bird', 'cat',\n",
    "           'deer', 'dog', 'frog', 'horse', 'ship', 'truck')"
   ]
  },
  {
   "cell_type": "markdown",
   "metadata": {},
   "source": [
    "### NOTE:\n",
    "If running on Windows you get a BrokenPipeError, try setting\n",
    "    the num_worker of `torch.utils.data.DataLoader()` to 0.\n",
    "    _______________________________________________________________________\n",
    "\n",
    "Let us show some of the training images, for fun.\n"
   ]
  },
  {
   "cell_type": "code",
   "execution_count": 51,
   "metadata": {},
   "outputs": [
    {
     "name": "stdout",
     "output_type": "stream",
     "text": [
      "batch size: 4\n",
      "color channels : 3\n",
      "Image size:32x32\n"
     ]
    },
    {
     "data": {
      "image/png": "[encoded data removed]",
      "text/plain": [
       "<Figure size 432x288 with 1 Axes>"
      ]
     },
     "metadata": {
      "needs_background": "light"
     },
     "output_type": "display_data"
    },
    {
     "name": "stdout",
     "output_type": "stream",
     "text": [
      " frog\t  ship\t  frog\t  deer\t\n"
     ]
    }
   ],
   "source": [
    "import matplotlib.pyplot as plt\n",
    "import numpy as np\n",
    "\n",
    "# functions to show an image\n",
    "\n",
    "\n",
    "def imshow(img):\n",
    "    img = img / 2 + 0.5     # unnormalize\n",
    "    npimg = img.numpy()\n",
    "    plt.imshow(np.transpose(npimg, (1, 2, 0)))\n",
    "    plt.show()\n",
    "\n",
    "\n",
    "# get some random training images and check the size\n",
    "dataiter = iter(trainloader)\n",
    "images, labels = dataiter.next()\n",
    "print('batch size:', images.size(0))\n",
    "print('color channels :', images.size(1))\n",
    "print('Image size:'+ str(images.size(2))+ 'x'+ str(images.size(3)))\n",
    "\n",
    "# show images\n",
    "imshow(torchvision.utils.make_grid(images))\n",
    "# print labels\n",
    "print(' '.join('%5s\\t' % classes[labels[j]] for j in range(4)))"
   ]
  },
  {
   "cell_type": "markdown",
   "metadata": {},
   "source": [
    "## b. Define a Convolutional Neural Network\n",
    "\n",
    "Copy the neural network from the Neural Networks section before and modify it to\n",
    "take 3-channel (color) images, instead of 1-channel (black and white) images as it was defined.\n",
    "\n",
    "### NOTE:\n",
    "Pay attention to the in/out features dimensions, especially at the transition between a Convolution (Conv) and Fully connected (fc) linear layer\n",
    "\n",
    "**Recap:**\n",
    "\n",
    "Formula to get the output features size `h_out` of a 2D Conv layer given `h_in` (size features input), `k` (convolutional kernel size), `p` (zero padding), and `s` (stride) (more details in [Conv2D documentation](https://pytorch.org/docs/stable/generated/torch.nn.Conv2d.html#conv2d))\n",
    "\n",
    "\\begin{align}h_{out}=\\frac{h_{in} - 2*p - k}{s} + 1 \\end{align}\n",
    "\n",
    "Remember that the feature size is divided by the MaxPool2d kernel size when passing through a 2D max pooling layer!\n",
    "\n",
    "_________________________________________________________________________________________________________________________"
   ]
  },
  {
   "cell_type": "code",
   "execution_count": 32,
   "metadata": {},
   "outputs": [
    {
     "name": "stdout",
     "output_type": "stream",
     "text": [
      "Net(\n",
      "  (conv1): Conv2d(3, 6, kernel_size=(5, 5), stride=(1, 1))\n",
      "  (pool): MaxPool2d(kernel_size=2, stride=2, padding=0, dilation=1, ceil_mode=False)\n",
      "  (conv2): Conv2d(6, 16, kernel_size=(5, 5), stride=(1, 1))\n",
      "  (fc1): Linear(in_features=400, out_features=120, bias=True)\n",
      "  (fc2): Linear(in_features=120, out_features=84, bias=True)\n",
      "  (fc3): Linear(in_features=84, out_features=10, bias=True)\n",
      ")\n"
     ]
    }
   ],
   "source": [
    "\n",
    "## TO BE COMPLETED !!!\n",
    "import torch.nn as nn\n",
    "import torch.nn.functional as F\n",
    "\n",
    "\n",
    "class Net(nn.Module):\n",
    "    def __init__(self):\n",
    "        super(Net, self).__init__()\n",
    "        self.conv1 = nn.Conv2d(3, 6, 5)\n",
    "        self.pool = nn.MaxPool2d(2, 2)\n",
    "        self.conv2 = nn.Conv2d(6, 16, 5)\n",
    "        self.fc1 = nn.Linear(16 * 5 * 5, 120)\n",
    "        self.fc2 = nn.Linear(120, 84)\n",
    "        self.fc3 = nn.Linear(84, 10)\n",
    "\n",
    "    def forward(self, x):\n",
    "        x = self.pool(F.relu(self.conv1(x)))\n",
    "        x = self.pool(F.relu(self.conv2(x)))\n",
    "        x = x.view(-1, 16 * 5 * 5)\n",
    "        x = F.relu(self.fc1(x))\n",
    "        x = F.relu(self.fc2(x))\n",
    "        x = self.fc3(x)\n",
    "        return x\n",
    "\n",
    "\n",
    "net = Net()\n",
    "print(net)"
   ]
  },
  {
   "cell_type": "markdown",
   "metadata": {},
   "source": [
    "## c. Define a Loss function and optimizer\n",
    "\n",
    "Let's use a Classification Cross-Entropy loss and SGD with momentum.\n"
   ]
  },
  {
   "cell_type": "code",
   "execution_count": 33,
   "metadata": {},
   "outputs": [],
   "source": [
    "# TO BE COMPLETED\n",
    "import torch.optim as optim\n",
    "\n",
    "criterion = nn.CrossEntropyLoss()\n",
    "optimizer = optim.SGD(net.parameters(), lr=0.001, momentum=0.9)"
   ]
  },
  {
   "cell_type": "markdown",
   "metadata": {},
   "source": [
    "## d. Train the network\n",
    "\n",
    "This is when things start to get interesting.\n",
    "We simply have to loop over our data iterator, and feed the inputs to the\n",
    "network and optimize. In this tutorial we will consider a small number of iterations over the dataset `n_epochs` \n"
   ]
  },
  {
   "cell_type": "code",
   "execution_count": 34,
   "metadata": {},
   "outputs": [
    {
     "name": "stdout",
     "output_type": "stream",
     "text": [
      "[1,  2000] loss: 2.196\n",
      "[1,  4000] loss: 1.862\n",
      "[1,  6000] loss: 1.688\n",
      "[1,  8000] loss: 1.569\n",
      "[1, 10000] loss: 1.518\n",
      "[1, 12000] loss: 1.471\n",
      "[2,  2000] loss: 1.376\n",
      "[2,  4000] loss: 1.365\n",
      "[2,  6000] loss: 1.322\n",
      "[2,  8000] loss: 1.320\n",
      "[2, 10000] loss: 1.292\n",
      "[2, 12000] loss: 1.247\n",
      "Finished Training\n"
     ]
    }
   ],
   "source": [
    "n_epochs=2\n",
    "\n",
    "for epoch in range(n_epochs):  # loop over the dataset multiple times\n",
    "\n",
    "    running_loss = 0.0\n",
    "    for i, data in enumerate(trainloader, 0):\n",
    "        # get the inputs; data is a list of [inputs, labels]\n",
    "        inputs, labels = data\n",
    "\n",
    "        # zero the parameter gradients\n",
    "        optimizer.zero_grad()\n",
    "\n",
    "        # forward + backward + optimize\n",
    "        outputs = net(inputs)\n",
    "        loss = criterion(outputs, labels)\n",
    "        loss.backward()\n",
    "        optimizer.step()\n",
    "\n",
    "        # print statistics\n",
    "        running_loss += loss.item()\n",
    "        if i % 2000 == 1999:    # print every 2000 mini-batches\n",
    "            print('[%d, %5d] loss: %.3f' %\n",
    "                  (epoch + 1, i + 1, running_loss / 2000))\n",
    "            running_loss = 0.0\n",
    "\n",
    "print('Finished Training')"
   ]
  },
  {
   "cell_type": "markdown",
   "metadata": {},
   "source": [
    "Let's quickly save our trained model (see [here] (https://pytorch.org/docs/stable/notes/serialization.html) for more details on saving PyTorch models)."
   ]
  },
  {
   "cell_type": "code",
   "execution_count": 35,
   "metadata": {},
   "outputs": [],
   "source": [
    "PATH = './cifar_net.pth'\n",
    "torch.save(net.state_dict(), PATH)"
   ]
  },
  {
   "cell_type": "markdown",
   "metadata": {},
   "source": [
    "## e. Test the network on the test data\n",
    "\n",
    "\n",
    "We have trained the network for `n_epochs` passes over the training dataset.\n",
    "But we need to check if the network has learnt anything at all.\n",
    "\n",
    "We will check this by predicting the class label that the neural network\n",
    "outputs, and checking it against the ground-truth. If the prediction is\n",
    "correct, we add the sample to the list of correct predictions.\n",
    "\n",
    "Okay, first step. Let us display an image from the test set to get familiar.\n",
    "\n"
   ]
  },
  {
   "cell_type": "code",
   "execution_count": 36,
   "metadata": {},
   "outputs": [
    {
     "data": {
      "image/png": "[encoded data removed]",
      "image/svg+xml": [
       "<?xml version=\"1.0\" encoding=\"utf-8\" standalone=\"no\"?>\n",
       "<!DOCTYPE svg PUBLIC \"-//W3C//DTD SVG 1.1//EN\"\n",
       "  \"http://www.w3.org/Graphics/SVG/1.1/DTD/svg11.dtd\">\n",
       "<!-- Created with matplotlib (https://matplotlib.org/) -->\n",
       "<svg height=\"121.003431pt\" version=\"1.1\" viewBox=\"0 0 368.925 121.003431\" width=\"368.925pt\" xmlns=\"http://www.w3.org/2000/svg\" xmlns:xlink=\"http://www.w3.org/1999/xlink\">\n",
       " <defs>\n",
       "  <style type=\"text/css\">\n",
       "*{stroke-linecap:butt;stroke-linejoin:round;}\n",
       "  </style>\n",
       " </defs>\n",
       " <g id=\"figure_1\">\n",
       "  <g id=\"patch_1\">\n",
       "   <path d=\"M -0 121.003431 \n",
       "L 368.925 121.003431 \n",
       "L 368.925 0 \n",
       "L -0 0 \n",
       "z\n",
       "\" style=\"fill:none;\"/>\n",
       "  </g>\n",
       "  <g id=\"axes_1\">\n",
       "   <g id=\"patch_2\">\n",
       "    <path d=\"M 26.925 97.125306 \n",
       "L 361.725 97.125306 \n",
       "L 361.725 9.786175 \n",
       "L 26.925 9.786175 \n",
       "z\n",
       "\" style=\"fill:#ffffff;\"/>\n",
       "   </g>\n",
       "   <g clip-path=\"url(#p05ab827901)\">\n",
       "    <image height=\"88\" id=\"image6cb73e4342\" transform=\"scale(1 -1)translate(0 -88)\" width=\"335\" x=\"26.925\" xlink:href=\"data:image/png;base64,\n",
       "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\" y=\"-9.125306\"/>\n",
       "   </g>\n",
       "   <g id=\"matplotlib.axis_1\">\n",
       "    <g id=\"xtick_1\">\n",
       "     <g id=\"line2d_1\">\n",
       "      <defs>\n",
       "       <path d=\"M 0 0 \n",
       "L 0 3.5 \n",
       "\" id=\"m65ed1f203e\" style=\"stroke:#000000;stroke-width:0.8;\"/>\n",
       "      </defs>\n",
       "      <g>\n",
       "       <use style=\"stroke:#000000;stroke-width:0.8;\" x=\"28.138043\" xlink:href=\"#m65ed1f203e\" y=\"97.125306\"/>\n",
       "      </g>\n",
       "     </g>\n",
       "     <g id=\"text_1\">\n",
       "      <!-- 0 -->\n",
       "      <defs>\n",
       "       <path d=\"M 31.78125 66.40625 \n",
       "Q 24.171875 66.40625 20.328125 58.90625 \n",
       "Q 16.5 51.421875 16.5 36.375 \n",
       "Q 16.5 21.390625 20.328125 13.890625 \n",
       "Q 24.171875 6.390625 31.78125 6.390625 \n",
       "Q 39.453125 6.390625 43.28125 13.890625 \n",
       "Q 47.125 21.390625 47.125 36.375 \n",
       "Q 47.125 51.421875 43.28125 58.90625 \n",
       "Q 39.453125 66.40625 31.78125 66.40625 \n",
       "z\n",
       "M 31.78125 74.21875 \n",
       "Q 44.046875 74.21875 50.515625 64.515625 \n",
       "Q 56.984375 54.828125 56.984375 36.375 \n",
       "Q 56.984375 17.96875 50.515625 8.265625 \n",
       "Q 44.046875 -1.421875 31.78125 -1.421875 \n",
       "Q 19.53125 -1.421875 13.0625 8.265625 \n",
       "Q 6.59375 17.96875 6.59375 36.375 \n",
       "Q 6.59375 54.828125 13.0625 64.515625 \n",
       "Q 19.53125 74.21875 31.78125 74.21875 \n",
       "z\n",
       "\" id=\"DejaVuSans-48\"/>\n",
       "      </defs>\n",
       "      <g transform=\"translate(24.956793 111.723743)scale(0.1 -0.1)\">\n",
       "       <use xlink:href=\"#DejaVuSans-48\"/>\n",
       "      </g>\n",
       "     </g>\n",
       "    </g>\n",
       "    <g id=\"xtick_2\">\n",
       "     <g id=\"line2d_2\">\n",
       "      <g>\n",
       "       <use style=\"stroke:#000000;stroke-width:0.8;\" x=\"76.659783\" xlink:href=\"#m65ed1f203e\" y=\"97.125306\"/>\n",
       "      </g>\n",
       "     </g>\n",
       "     <g id=\"text_2\">\n",
       "      <!-- 20 -->\n",
       "      <defs>\n",
       "       <path d=\"M 19.1875 8.296875 \n",
       "L 53.609375 8.296875 \n",
       "L 53.609375 0 \n",
       "L 7.328125 0 \n",
       "L 7.328125 8.296875 \n",
       "Q 12.9375 14.109375 22.625 23.890625 \n",
       "Q 32.328125 33.6875 34.8125 36.53125 \n",
       "Q 39.546875 41.84375 41.421875 45.53125 \n",
       "Q 43.3125 49.21875 43.3125 52.78125 \n",
       "Q 43.3125 58.59375 39.234375 62.25 \n",
       "Q 35.15625 65.921875 28.609375 65.921875 \n",
       "Q 23.96875 65.921875 18.8125 64.3125 \n",
       "Q 13.671875 62.703125 7.8125 59.421875 \n",
       "L 7.8125 69.390625 \n",
       "Q 13.765625 71.78125 18.9375 73 \n",
       "Q 24.125 74.21875 28.421875 74.21875 \n",
       "Q 39.75 74.21875 46.484375 68.546875 \n",
       "Q 53.21875 62.890625 53.21875 53.421875 \n",
       "Q 53.21875 48.921875 51.53125 44.890625 \n",
       "Q 49.859375 40.875 45.40625 35.40625 \n",
       "Q 44.1875 33.984375 37.640625 27.21875 \n",
       "Q 31.109375 20.453125 19.1875 8.296875 \n",
       "z\n",
       "\" id=\"DejaVuSans-50\"/>\n",
       "      </defs>\n",
       "      <g transform=\"translate(70.297283 111.723743)scale(0.1 -0.1)\">\n",
       "       <use xlink:href=\"#DejaVuSans-50\"/>\n",
       "       <use x=\"63.623047\" xlink:href=\"#DejaVuSans-48\"/>\n",
       "      </g>\n",
       "     </g>\n",
       "    </g>\n",
       "    <g id=\"xtick_3\">\n",
       "     <g id=\"line2d_3\">\n",
       "      <g>\n",
       "       <use style=\"stroke:#000000;stroke-width:0.8;\" x=\"125.181522\" xlink:href=\"#m65ed1f203e\" y=\"97.125306\"/>\n",
       "      </g>\n",
       "     </g>\n",
       "     <g id=\"text_3\">\n",
       "      <!-- 40 -->\n",
       "      <defs>\n",
       "       <path d=\"M 37.796875 64.3125 \n",
       "L 12.890625 25.390625 \n",
       "L 37.796875 25.390625 \n",
       "z\n",
       "M 35.203125 72.90625 \n",
       "L 47.609375 72.90625 \n",
       "L 47.609375 25.390625 \n",
       "L 58.015625 25.390625 \n",
       "L 58.015625 17.1875 \n",
       "L 47.609375 17.1875 \n",
       "L 47.609375 0 \n",
       "L 37.796875 0 \n",
       "L 37.796875 17.1875 \n",
       "L 4.890625 17.1875 \n",
       "L 4.890625 26.703125 \n",
       "z\n",
       "\" id=\"DejaVuSans-52\"/>\n",
       "      </defs>\n",
       "      <g transform=\"translate(118.819022 111.723743)scale(0.1 -0.1)\">\n",
       "       <use xlink:href=\"#DejaVuSans-52\"/>\n",
       "       <use x=\"63.623047\" xlink:href=\"#DejaVuSans-48\"/>\n",
       "      </g>\n",
       "     </g>\n",
       "    </g>\n",
       "    <g id=\"xtick_4\">\n",
       "     <g id=\"line2d_4\">\n",
       "      <g>\n",
       "       <use style=\"stroke:#000000;stroke-width:0.8;\" x=\"173.703261\" xlink:href=\"#m65ed1f203e\" y=\"97.125306\"/>\n",
       "      </g>\n",
       "     </g>\n",
       "     <g id=\"text_4\">\n",
       "      <!-- 60 -->\n",
       "      <defs>\n",
       "       <path d=\"M 33.015625 40.375 \n",
       "Q 26.375 40.375 22.484375 35.828125 \n",
       "Q 18.609375 31.296875 18.609375 23.390625 \n",
       "Q 18.609375 15.53125 22.484375 10.953125 \n",
       "Q 26.375 6.390625 33.015625 6.390625 \n",
       "Q 39.65625 6.390625 43.53125 10.953125 \n",
       "Q 47.40625 15.53125 47.40625 23.390625 \n",
       "Q 47.40625 31.296875 43.53125 35.828125 \n",
       "Q 39.65625 40.375 33.015625 40.375 \n",
       "z\n",
       "M 52.59375 71.296875 \n",
       "L 52.59375 62.3125 \n",
       "Q 48.875 64.0625 45.09375 64.984375 \n",
       "Q 41.3125 65.921875 37.59375 65.921875 \n",
       "Q 27.828125 65.921875 22.671875 59.328125 \n",
       "Q 17.53125 52.734375 16.796875 39.40625 \n",
       "Q 19.671875 43.65625 24.015625 45.921875 \n",
       "Q 28.375 48.1875 33.59375 48.1875 \n",
       "Q 44.578125 48.1875 50.953125 41.515625 \n",
       "Q 57.328125 34.859375 57.328125 23.390625 \n",
       "Q 57.328125 12.15625 50.6875 5.359375 \n",
       "Q 44.046875 -1.421875 33.015625 -1.421875 \n",
       "Q 20.359375 -1.421875 13.671875 8.265625 \n",
       "Q 6.984375 17.96875 6.984375 36.375 \n",
       "Q 6.984375 53.65625 15.1875 63.9375 \n",
       "Q 23.390625 74.21875 37.203125 74.21875 \n",
       "Q 40.921875 74.21875 44.703125 73.484375 \n",
       "Q 48.484375 72.75 52.59375 71.296875 \n",
       "z\n",
       "\" id=\"DejaVuSans-54\"/>\n",
       "      </defs>\n",
       "      <g transform=\"translate(167.340761 111.723743)scale(0.1 -0.1)\">\n",
       "       <use xlink:href=\"#DejaVuSans-54\"/>\n",
       "       <use x=\"63.623047\" xlink:href=\"#DejaVuSans-48\"/>\n",
       "      </g>\n",
       "     </g>\n",
       "    </g>\n",
       "    <g id=\"xtick_5\">\n",
       "     <g id=\"line2d_5\">\n",
       "      <g>\n",
       "       <use style=\"stroke:#000000;stroke-width:0.8;\" x=\"222.225\" xlink:href=\"#m65ed1f203e\" y=\"97.125306\"/>\n",
       "      </g>\n",
       "     </g>\n",
       "     <g id=\"text_5\">\n",
       "      <!-- 80 -->\n",
       "      <defs>\n",
       "       <path d=\"M 31.78125 34.625 \n",
       "Q 24.75 34.625 20.71875 30.859375 \n",
       "Q 16.703125 27.09375 16.703125 20.515625 \n",
       "Q 16.703125 13.921875 20.71875 10.15625 \n",
       "Q 24.75 6.390625 31.78125 6.390625 \n",
       "Q 38.8125 6.390625 42.859375 10.171875 \n",
       "Q 46.921875 13.96875 46.921875 20.515625 \n",
       "Q 46.921875 27.09375 42.890625 30.859375 \n",
       "Q 38.875 34.625 31.78125 34.625 \n",
       "z\n",
       "M 21.921875 38.8125 \n",
       "Q 15.578125 40.375 12.03125 44.71875 \n",
       "Q 8.5 49.078125 8.5 55.328125 \n",
       "Q 8.5 64.0625 14.71875 69.140625 \n",
       "Q 20.953125 74.21875 31.78125 74.21875 \n",
       "Q 42.671875 74.21875 48.875 69.140625 \n",
       "Q 55.078125 64.0625 55.078125 55.328125 \n",
       "Q 55.078125 49.078125 51.53125 44.71875 \n",
       "Q 48 40.375 41.703125 38.8125 \n",
       "Q 48.828125 37.15625 52.796875 32.3125 \n",
       "Q 56.78125 27.484375 56.78125 20.515625 \n",
       "Q 56.78125 9.90625 50.3125 4.234375 \n",
       "Q 43.84375 -1.421875 31.78125 -1.421875 \n",
       "Q 19.734375 -1.421875 13.25 4.234375 \n",
       "Q 6.78125 9.90625 6.78125 20.515625 \n",
       "Q 6.78125 27.484375 10.78125 32.3125 \n",
       "Q 14.796875 37.15625 21.921875 38.8125 \n",
       "z\n",
       "M 18.3125 54.390625 \n",
       "Q 18.3125 48.734375 21.84375 45.5625 \n",
       "Q 25.390625 42.390625 31.78125 42.390625 \n",
       "Q 38.140625 42.390625 41.71875 45.5625 \n",
       "Q 45.3125 48.734375 45.3125 54.390625 \n",
       "Q 45.3125 60.0625 41.71875 63.234375 \n",
       "Q 38.140625 66.40625 31.78125 66.40625 \n",
       "Q 25.390625 66.40625 21.84375 63.234375 \n",
       "Q 18.3125 60.0625 18.3125 54.390625 \n",
       "z\n",
       "\" id=\"DejaVuSans-56\"/>\n",
       "      </defs>\n",
       "      <g transform=\"translate(215.8625 111.723743)scale(0.1 -0.1)\">\n",
       "       <use xlink:href=\"#DejaVuSans-56\"/>\n",
       "       <use x=\"63.623047\" xlink:href=\"#DejaVuSans-48\"/>\n",
       "      </g>\n",
       "     </g>\n",
       "    </g>\n",
       "    <g id=\"xtick_6\">\n",
       "     <g id=\"line2d_6\">\n",
       "      <g>\n",
       "       <use style=\"stroke:#000000;stroke-width:0.8;\" x=\"270.746739\" xlink:href=\"#m65ed1f203e\" y=\"97.125306\"/>\n",
       "      </g>\n",
       "     </g>\n",
       "     <g id=\"text_6\">\n",
       "      <!-- 100 -->\n",
       "      <defs>\n",
       "       <path d=\"M 12.40625 8.296875 \n",
       "L 28.515625 8.296875 \n",
       "L 28.515625 63.921875 \n",
       "L 10.984375 60.40625 \n",
       "L 10.984375 69.390625 \n",
       "L 28.421875 72.90625 \n",
       "L 38.28125 72.90625 \n",
       "L 38.28125 8.296875 \n",
       "L 54.390625 8.296875 \n",
       "L 54.390625 0 \n",
       "L 12.40625 0 \n",
       "z\n",
       "\" id=\"DejaVuSans-49\"/>\n",
       "      </defs>\n",
       "      <g transform=\"translate(261.202989 111.723743)scale(0.1 -0.1)\">\n",
       "       <use xlink:href=\"#DejaVuSans-49\"/>\n",
       "       <use x=\"63.623047\" xlink:href=\"#DejaVuSans-48\"/>\n",
       "       <use x=\"127.246094\" xlink:href=\"#DejaVuSans-48\"/>\n",
       "      </g>\n",
       "     </g>\n",
       "    </g>\n",
       "    <g id=\"xtick_7\">\n",
       "     <g id=\"line2d_7\">\n",
       "      <g>\n",
       "       <use style=\"stroke:#000000;stroke-width:0.8;\" x=\"319.268478\" xlink:href=\"#m65ed1f203e\" y=\"97.125306\"/>\n",
       "      </g>\n",
       "     </g>\n",
       "     <g id=\"text_7\">\n",
       "      <!-- 120 -->\n",
       "      <g transform=\"translate(309.724728 111.723743)scale(0.1 -0.1)\">\n",
       "       <use xlink:href=\"#DejaVuSans-49\"/>\n",
       "       <use x=\"63.623047\" xlink:href=\"#DejaVuSans-50\"/>\n",
       "       <use x=\"127.246094\" xlink:href=\"#DejaVuSans-48\"/>\n",
       "      </g>\n",
       "     </g>\n",
       "    </g>\n",
       "   </g>\n",
       "   <g id=\"matplotlib.axis_2\">\n",
       "    <g id=\"ytick_1\">\n",
       "     <g id=\"line2d_8\">\n",
       "      <defs>\n",
       "       <path d=\"M 0 0 \n",
       "L -3.5 0 \n",
       "\" id=\"maa4dda2d07\" style=\"stroke:#000000;stroke-width:0.8;\"/>\n",
       "      </defs>\n",
       "      <g>\n",
       "       <use style=\"stroke:#000000;stroke-width:0.8;\" x=\"26.925\" xlink:href=\"#maa4dda2d07\" y=\"10.999219\"/>\n",
       "      </g>\n",
       "     </g>\n",
       "     <g id=\"text_8\">\n",
       "      <!-- 0 -->\n",
       "      <g transform=\"translate(13.5625 14.798437)scale(0.1 -0.1)\">\n",
       "       <use xlink:href=\"#DejaVuSans-48\"/>\n",
       "      </g>\n",
       "     </g>\n",
       "    </g>\n",
       "    <g id=\"ytick_2\">\n",
       "     <g id=\"line2d_9\">\n",
       "      <g>\n",
       "       <use style=\"stroke:#000000;stroke-width:0.8;\" x=\"26.925\" xlink:href=\"#maa4dda2d07\" y=\"35.260088\"/>\n",
       "      </g>\n",
       "     </g>\n",
       "     <g id=\"text_9\">\n",
       "      <!-- 10 -->\n",
       "      <g transform=\"translate(7.2 39.059307)scale(0.1 -0.1)\">\n",
       "       <use xlink:href=\"#DejaVuSans-49\"/>\n",
       "       <use x=\"63.623047\" xlink:href=\"#DejaVuSans-48\"/>\n",
       "      </g>\n",
       "     </g>\n",
       "    </g>\n",
       "    <g id=\"ytick_3\">\n",
       "     <g id=\"line2d_10\">\n",
       "      <g>\n",
       "       <use style=\"stroke:#000000;stroke-width:0.8;\" x=\"26.925\" xlink:href=\"#maa4dda2d07\" y=\"59.520958\"/>\n",
       "      </g>\n",
       "     </g>\n",
       "     <g id=\"text_10\">\n",
       "      <!-- 20 -->\n",
       "      <g transform=\"translate(7.2 63.320177)scale(0.1 -0.1)\">\n",
       "       <use xlink:href=\"#DejaVuSans-50\"/>\n",
       "       <use x=\"63.623047\" xlink:href=\"#DejaVuSans-48\"/>\n",
       "      </g>\n",
       "     </g>\n",
       "    </g>\n",
       "    <g id=\"ytick_4\">\n",
       "     <g id=\"line2d_11\">\n",
       "      <g>\n",
       "       <use style=\"stroke:#000000;stroke-width:0.8;\" x=\"26.925\" xlink:href=\"#maa4dda2d07\" y=\"83.781827\"/>\n",
       "      </g>\n",
       "     </g>\n",
       "     <g id=\"text_11\">\n",
       "      <!-- 30 -->\n",
       "      <defs>\n",
       "       <path d=\"M 40.578125 39.3125 \n",
       "Q 47.65625 37.796875 51.625 33 \n",
       "Q 55.609375 28.21875 55.609375 21.1875 \n",
       "Q 55.609375 10.40625 48.1875 4.484375 \n",
       "Q 40.765625 -1.421875 27.09375 -1.421875 \n",
       "Q 22.515625 -1.421875 17.65625 -0.515625 \n",
       "Q 12.796875 0.390625 7.625 2.203125 \n",
       "L 7.625 11.71875 \n",
       "Q 11.71875 9.328125 16.59375 8.109375 \n",
       "Q 21.484375 6.890625 26.8125 6.890625 \n",
       "Q 36.078125 6.890625 40.9375 10.546875 \n",
       "Q 45.796875 14.203125 45.796875 21.1875 \n",
       "Q 45.796875 27.640625 41.28125 31.265625 \n",
       "Q 36.765625 34.90625 28.71875 34.90625 \n",
       "L 20.21875 34.90625 \n",
       "L 20.21875 43.015625 \n",
       "L 29.109375 43.015625 \n",
       "Q 36.375 43.015625 40.234375 45.921875 \n",
       "Q 44.09375 48.828125 44.09375 54.296875 \n",
       "Q 44.09375 59.90625 40.109375 62.90625 \n",
       "Q 36.140625 65.921875 28.71875 65.921875 \n",
       "Q 24.65625 65.921875 20.015625 65.03125 \n",
       "Q 15.375 64.15625 9.8125 62.3125 \n",
       "L 9.8125 71.09375 \n",
       "Q 15.4375 72.65625 20.34375 73.4375 \n",
       "Q 25.25 74.21875 29.59375 74.21875 \n",
       "Q 40.828125 74.21875 47.359375 69.109375 \n",
       "Q 53.90625 64.015625 53.90625 55.328125 \n",
       "Q 53.90625 49.265625 50.4375 45.09375 \n",
       "Q 46.96875 40.921875 40.578125 39.3125 \n",
       "z\n",
       "\" id=\"DejaVuSans-51\"/>\n",
       "      </defs>\n",
       "      <g transform=\"translate(7.2 87.581046)scale(0.1 -0.1)\">\n",
       "       <use xlink:href=\"#DejaVuSans-51\"/>\n",
       "       <use x=\"63.623047\" xlink:href=\"#DejaVuSans-48\"/>\n",
       "      </g>\n",
       "     </g>\n",
       "    </g>\n",
       "   </g>\n",
       "   <g id=\"patch_3\">\n",
       "    <path d=\"M 26.925 97.125306 \n",
       "L 26.925 9.786175 \n",
       "\" style=\"fill:none;stroke:#000000;stroke-linecap:square;stroke-linejoin:miter;stroke-width:0.8;\"/>\n",
       "   </g>\n",
       "   <g id=\"patch_4\">\n",
       "    <path d=\"M 361.725 97.125306 \n",
       "L 361.725 9.786175 \n",
       "\" style=\"fill:none;stroke:#000000;stroke-linecap:square;stroke-linejoin:miter;stroke-width:0.8;\"/>\n",
       "   </g>\n",
       "   <g id=\"patch_5\">\n",
       "    <path d=\"M 26.925 97.125306 \n",
       "L 361.725 97.125306 \n",
       "\" style=\"fill:none;stroke:#000000;stroke-linecap:square;stroke-linejoin:miter;stroke-width:0.8;\"/>\n",
       "   </g>\n",
       "   <g id=\"patch_6\">\n",
       "    <path d=\"M 26.925 9.786175 \n",
       "L 361.725 9.786175 \n",
       "\" style=\"fill:none;stroke:#000000;stroke-linecap:square;stroke-linejoin:miter;stroke-width:0.8;\"/>\n",
       "   </g>\n",
       "  </g>\n",
       " </g>\n",
       " <defs>\n",
       "  <clipPath id=\"p05ab827901\">\n",
       "   <rect height=\"87.33913\" width=\"334.8\" x=\"26.925\" y=\"9.786175\"/>\n",
       "  </clipPath>\n",
       " </defs>\n",
       "</svg>\n"
      ],
      "text/plain": [
       "<Figure size 432x288 with 1 Axes>"
      ]
     },
     "metadata": {
      "needs_background": "light"
     },
     "output_type": "display_data"
    },
    {
     "name": "stdout",
     "output_type": "stream",
     "text": [
      "GroundTruth:    cat  ship  ship plane\n"
     ]
    }
   ],
   "source": [
    "dataiter = iter(testloader)\n",
    "images, labels = dataiter.next()\n",
    "\n",
    "# print images\n",
    "imshow(torchvision.utils.make_grid(images))\n",
    "print('GroundTruth: ', ' '.join('%5s' % classes[labels[j]] for j in range(4)))"
   ]
  },
  {
   "cell_type": "markdown",
   "metadata": {},
   "source": [
    "Next, let's load back in our saved model (note: saving and re-loading the model\n",
    "wasn't necessary here, we only did it to illustrate how to do so):\n"
   ]
  },
  {
   "cell_type": "code",
   "execution_count": 37,
   "metadata": {},
   "outputs": [
    {
     "data": {
      "text/plain": [
       "<All keys matched successfully>"
      ]
     },
     "execution_count": 37,
     "metadata": {},
     "output_type": "execute_result"
    }
   ],
   "source": [
    "net = Net()\n",
    "net.load_state_dict(torch.load(PATH))"
   ]
  },
  {
   "cell_type": "markdown",
   "metadata": {},
   "source": [
    "Okay, now let us see what the neural network thinks these examples above are.\n",
    "\n",
    "The outputs are energies for the 10 classes.\n",
    "The higher the energy for a class, the more the network\n",
    "thinks that the image is of the particular class.\n",
    "So, let's get the index of the highest energy:\n"
   ]
  },
  {
   "cell_type": "code",
   "execution_count": 38,
   "metadata": {},
   "outputs": [
    {
     "name": "stdout",
     "output_type": "stream",
     "text": [
      "Predicted:   ship  ship  ship  ship\n"
     ]
    }
   ],
   "source": [
    "outputs = net(images)\n",
    "\n",
    "_, predicted = torch.max(outputs, 1)\n",
    "\n",
    "print('Predicted: ', ' '.join('%5s' % classes[predicted[j]]\n",
    "                              for j in range(4)))"
   ]
  },
  {
   "cell_type": "markdown",
   "metadata": {},
   "source": [
    "Let us look at how the network performs on the whole dataset."
   ]
  },
  {
   "cell_type": "code",
   "execution_count": 39,
   "metadata": {},
   "outputs": [
    {
     "name": "stdout",
     "output_type": "stream",
     "text": [
      "Accuracy of the network on the 10000 test images: 54 %\n"
     ]
    }
   ],
   "source": [
    "correct = 0\n",
    "total = 0\n",
    "with torch.no_grad():  # torch.no_grad for TESTING\n",
    "    for data in testloader:\n",
    "        images, labels = data\n",
    "        outputs = net(images)\n",
    "        _, predicted = torch.max(outputs.data, 1)\n",
    "        total += labels.size(0)\n",
    "        correct += (predicted == labels).sum().item()\n",
    "\n",
    "print('Accuracy of the network on the 10000 test images: %d %%' % (\n",
    "    100 * correct / total))"
   ]
  },
  {
   "cell_type": "markdown",
   "metadata": {},
   "source": [
    "That looks way better than chance, which is 10% accuracy (randomly picking\n",
    "a class out of 10 classes).\n",
    "Seems like the network learnt something.\n",
    "\n",
    "Hmmm, what are the classes that performed well, and the classes that did\n",
    "not perform well:"
   ]
  },
  {
   "cell_type": "code",
   "execution_count": 40,
   "metadata": {},
   "outputs": [
    {
     "name": "stdout",
     "output_type": "stream",
     "text": [
      "Accuracy of plane : 68 %\n",
      "Accuracy of   car : 65 %\n",
      "Accuracy of  bird : 36 %\n",
      "Accuracy of   cat : 50 %\n",
      "Accuracy of  deer : 46 %\n",
      "Accuracy of   dog : 46 %\n",
      "Accuracy of  frog : 49 %\n",
      "Accuracy of horse : 65 %\n",
      "Accuracy of  ship : 73 %\n",
      "Accuracy of truck : 46 %\n"
     ]
    }
   ],
   "source": [
    "class_correct = list(0. for i in range(10))\n",
    "class_total = list(0. for i in range(10))\n",
    "with torch.no_grad():\n",
    "    for data in testloader:\n",
    "        images, labels = data\n",
    "        outputs = net(images)\n",
    "        _, predicted = torch.max(outputs, 1)\n",
    "        c = (predicted == labels).squeeze()\n",
    "        for i in range(4):\n",
    "            label = labels[i]\n",
    "            class_correct[label] += c[i].item()\n",
    "            class_total[label] += 1\n",
    "\n",
    "\n",
    "for i in range(10):\n",
    "    print('Accuracy of %5s : %2d %%' % (\n",
    "        classes[i], 100 * class_correct[i] / class_total[i]))"
   ]
  },
  {
   "cell_type": "markdown",
   "metadata": {},
   "source": [
    "Okay, so what next?\n",
    "\n",
    "How do we run these neural networks on the GPU?\n",
    "\n",
    "### Training on GPU\n",
    "----------------\n",
    "Just like how you transfer a Tensor onto the GPU, you transfer the neural\n",
    "net onto the GPU.\n",
    "\n",
    "Let's first define our device as the first visible cuda device if we have\n",
    "CUDA available:\n"
   ]
  },
  {
   "cell_type": "code",
   "execution_count": 41,
   "metadata": {},
   "outputs": [
    {
     "name": "stdout",
     "output_type": "stream",
     "text": [
      "cpu\n"
     ]
    }
   ],
   "source": [
    "device = torch.device(\"cuda:0\" if torch.cuda.is_available() else \"cpu\")\n",
    "\n",
    "# Assuming that we are on a CUDA machine, this should print a CUDA device:\n",
    "\n",
    "print(device)"
   ]
  },
  {
   "cell_type": "markdown",
   "metadata": {},
   "source": [
    "The rest of this section assumes that ``device`` is a CUDA device.\n",
    "\n",
    "Then these methods will recursively go over all modules and convert their\n",
    "parameters and buffers to CUDA tensors:\n",
    "\n",
    ".. code:: python\n",
    "\n",
    "    net.to(device)\n",
    "\n",
    "\n",
    "Remember that you will have to send the inputs and targets at every step\n",
    "to the GPU too:\n",
    "\n",
    ".. code:: python\n",
    "\n",
    "        inputs, labels = data[0].to(device), data[1].to(device)\n",
    "\n",
    "Why dont I notice MASSIVE speedup compared to CPU? Because your network\n",
    "is really small.\n",
    "\n",
    "## This is the end of the Tutorial!\n",
    "\n",
    "**Goals achieved**:\n",
    "\n",
    "- Understanding PyTorch's Tensor library and neural networks at a high level.\n",
    "- Train a small neural network to classify images\n"
   ]
  }
 ],
 "metadata": {
  "kernelspec": {
   "display_name": "Python 3",
   "language": "python",
   "name": "python3"
  },
  "language_info": {
   "codemirror_mode": {
    "name": "ipython",
    "version": 3
   },
   "file_extension": ".py",
   "mimetype": "text/x-python",
   "name": "python",
   "nbconvert_exporter": "python",
   "pygments_lexer": "ipython3",
   "version": "3.8.10"
  }
 },
 "nbformat": 4,
 "nbformat_minor": 1
}
